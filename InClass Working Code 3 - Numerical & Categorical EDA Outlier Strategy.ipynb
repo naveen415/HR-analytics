{
 "cells": [
  {
   "cell_type": "markdown",
   "metadata": {
    "id": "lFwktUA6a7zH"
   },
   "source": [
    "# Code 3\n",
    "- Numerical & Categorical EDA\n",
    "  - Outlier Detection and Basic Imputation (Mean/Median/Mode)\n",
    "- Logistic Model (Balanced/ Unbalanced)"
   ]
  },
  {
   "cell_type": "markdown",
   "metadata": {
    "id": "9DXfa773a7zZ"
   },
   "source": [
    "## 1/ Import Libraries"
   ]
  },
  {
   "cell_type": "code",
   "execution_count": null,
   "metadata": {
    "colab": {
     "base_uri": "https://localhost:8080/"
    },
    "executionInfo": {
     "elapsed": 23186,
     "status": "ok",
     "timestamp": 1619671485658,
     "user": {
      "displayName": "Data Science Master Minds",
      "photoUrl": "",
      "userId": "13790691282857793894"
     },
     "user_tz": -330
    },
    "id": "s7o2t9blWo-b",
    "outputId": "a8df1908-c902-4ce2-aba4-19df17d5c5a2"
   },
   "outputs": [
    {
     "name": "stdout",
     "output_type": "stream",
     "text": [
      "Mounted at /mntDrive\n"
     ]
    }
   ],
   "source": [
    "# #CodeSection1\n",
    "# from google.colab import drive\n",
    "# drive.mount('/mntDrive') "
   ]
  },
  {
   "cell_type": "code",
   "execution_count": 14,
   "metadata": {
    "id": "n8yqRIuha7zn"
   },
   "outputs": [],
   "source": [
    "#CodeSection2\n",
    "import pandas as pd\n",
    "import numpy as np"
   ]
  },
  {
   "cell_type": "markdown",
   "metadata": {
    "id": "wRz6crvoa7zo"
   },
   "source": [
    "## 2/ Import Data"
   ]
  },
  {
   "cell_type": "code",
   "execution_count": 15,
   "metadata": {
    "id": "3u-V5dA4a7zp"
   },
   "outputs": [],
   "source": [
    "#CodeSection3\n",
    "train = pd.read_csv('input/train.csv')\n",
    "test = pd.read_csv('input/test.csv')"
   ]
  },
  {
   "cell_type": "markdown",
   "metadata": {
    "id": "k-SeaUk9a7zp"
   },
   "source": [
    "## 3/ Combine both Datasets (train, test)"
   ]
  },
  {
   "cell_type": "code",
   "execution_count": 16,
   "metadata": {
    "id": "LOCJ0YdIa7zq"
   },
   "outputs": [],
   "source": [
    "#CodeSection4\n",
    "all_data = [train, test]"
   ]
  },
  {
   "cell_type": "markdown",
   "metadata": {
    "id": "ox_afLNJtkyO"
   },
   "source": [
    "### Check Combined Data \n",
    "- Missing Value\n",
    "- Data Types"
   ]
  },
  {
   "cell_type": "code",
   "execution_count": 17,
   "metadata": {
    "colab": {
     "base_uri": "https://localhost:8080/"
    },
    "executionInfo": {
     "elapsed": 846,
     "status": "ok",
     "timestamp": 1619679115642,
     "user": {
      "displayName": "Data Science Master Minds",
      "photoUrl": "",
      "userId": "13790691282857793894"
     },
     "user_tz": -330
    },
    "id": "T_aFcU3Na7zq",
    "outputId": "e18e7eac-c11a-4ef0-ba91-6e6b511c2ea0"
   },
   "outputs": [
    {
     "data": {
      "text/plain": [
       "enrollee_id                   0\n",
       "city                          0\n",
       "city_development_index        0\n",
       "gender                     7486\n",
       "relevent_experience           0\n",
       "enrolled_university         621\n",
       "education_level             852\n",
       "major_discipline           5231\n",
       "experience                  103\n",
       "company_size               8830\n",
       "company_type               9369\n",
       "last_new_job                671\n",
       "training_hours                0\n",
       "target                    15021\n",
       "dtype: int64"
      ]
     },
     "execution_count": 17,
     "metadata": {},
     "output_type": "execute_result"
    }
   ],
   "source": [
    "#CodeSection5\n",
    "# Combine both to check Missing Value\n",
    "pd.concat([train, test], axis = 0).isnull().sum()"
   ]
  },
  {
   "cell_type": "code",
   "execution_count": 18,
   "metadata": {
    "colab": {
     "base_uri": "https://localhost:8080/"
    },
    "executionInfo": {
     "elapsed": 871,
     "status": "ok",
     "timestamp": 1619679118347,
     "user": {
      "displayName": "Data Science Master Minds",
      "photoUrl": "",
      "userId": "13790691282857793894"
     },
     "user_tz": -330
    },
    "id": "yCMGv2mOa7zu",
    "outputId": "db838a08-e85f-4324-e968-2419a36d9975"
   },
   "outputs": [
    {
     "name": "stdout",
     "output_type": "stream",
     "text": [
      "<class 'pandas.core.frame.DataFrame'>\n",
      "RangeIndex: 18359 entries, 0 to 18358\n",
      "Data columns (total 14 columns):\n",
      " #   Column                  Non-Null Count  Dtype  \n",
      "---  ------                  --------------  -----  \n",
      " 0   enrollee_id             18359 non-null  int64  \n",
      " 1   city                    18359 non-null  object \n",
      " 2   city_development_index  18359 non-null  float64\n",
      " 3   gender                  14261 non-null  object \n",
      " 4   relevent_experience     18359 non-null  object \n",
      " 5   enrolled_university     18017 non-null  object \n",
      " 6   education_level         17902 non-null  object \n",
      " 7   major_discipline        15521 non-null  object \n",
      " 8   experience              18300 non-null  object \n",
      " 9   company_size            13580 non-null  object \n",
      " 10  company_type            13320 non-null  object \n",
      " 11  last_new_job            17992 non-null  object \n",
      " 12  training_hours          18359 non-null  int64  \n",
      " 13  target                  18359 non-null  int64  \n",
      "dtypes: float64(1), int64(3), object(10)\n",
      "memory usage: 2.0+ MB\n"
     ]
    }
   ],
   "source": [
    "#CodeSection6\n",
    "# Check Data types for each variable\n",
    "train.info()"
   ]
  },
  {
   "cell_type": "markdown",
   "metadata": {
    "id": "DdB8TzBPa7zv"
   },
   "source": [
    "## 4/ EDA - Check Numerical Variables"
   ]
  },
  {
   "cell_type": "code",
   "execution_count": 19,
   "metadata": {
    "id": "vC53ci3Ja7zv"
   },
   "outputs": [],
   "source": [
    "#CodeSection7\n",
    "# Lets Import the Seaborn Library\n",
    "import seaborn as sns"
   ]
  },
  {
   "cell_type": "markdown",
   "metadata": {
    "id": "tZ9MGesTa7z_"
   },
   "source": [
    "### Lets start with Numerical Variable/Feature - 1"
   ]
  },
  {
   "cell_type": "code",
   "execution_count": 20,
   "metadata": {
    "colab": {
     "base_uri": "https://localhost:8080/",
     "height": 352
    },
    "executionInfo": {
     "elapsed": 1153,
     "status": "ok",
     "timestamp": 1619679191073,
     "user": {
      "displayName": "Data Science Master Minds",
      "photoUrl": "",
      "userId": "13790691282857793894"
     },
     "user_tz": -330
    },
    "id": "uyguqgb2a70A",
    "outputId": "91985b2c-0fa8-4d8b-a998-3f1c2ebb9a14"
   },
   "outputs": [
    {
     "data": {
      "text/plain": [
       "<matplotlib.axes._subplots.AxesSubplot at 0x1d8d43438b0>"
      ]
     },
     "execution_count": 20,
     "metadata": {},
     "output_type": "execute_result"
    },
    {
     "data": {
      "image/png": "[encoded data removed]",
      "text/plain": [
       "<Figure size 432x288 with 1 Axes>"
      ]
     },
     "metadata": {
      "needs_background": "light"
     },
     "output_type": "display_data"
    }
   ],
   "source": [
    "#CodeSection8\n",
    "# in this case we start with \"ApplicantIncome\"\n",
    "sns.boxplot(train['training_hours'])\n",
    "# Has Outliers"
   ]
  },
  {
   "cell_type": "markdown",
   "metadata": {
    "id": "KxOOS6FeXbYZ"
   },
   "source": [
    "### Inter Quantile Range Strategy \n",
    "- Outlier Detection\n",
    "- Outlier Treatment"
   ]
  },
  {
   "cell_type": "code",
   "execution_count": 21,
   "metadata": {
    "colab": {
     "base_uri": "https://localhost:8080/"
    },
    "executionInfo": {
     "elapsed": 1112,
     "status": "ok",
     "timestamp": 1619679466029,
     "user": {
      "displayName": "Data Science Master Minds",
      "photoUrl": "",
      "userId": "13790691282857793894"
     },
     "user_tz": -330
    },
    "id": "QaqPw5Zxa70A",
    "outputId": "c0e89fb0-a03d-4d22-9916-fce2d233843e"
   },
   "outputs": [
    {
     "name": "stdout",
     "output_type": "stream",
     "text": [
      "Q1 : 23.0\n",
      "Q3 : 89.0\n",
      "IQR : 66.0\n",
      "-76.0 188.0\n"
     ]
    }
   ],
   "source": [
    "#CodeSection9\n",
    "# Use quantile function\n",
    "# Find Q1 and Q3\n",
    "Q1 = train['training_hours'].quantile(0.25)\n",
    "Q3 = train['training_hours'].quantile(0.75)\n",
    "\n",
    "#Find IQR \n",
    "IQR = Q3-Q1\n",
    "\n",
    "#Find Lower Limit and Higher Limit\n",
    "Lower_Whisker = Q1 -1.5*IQR\n",
    "Upper_Whisker = Q3 + 1.5*IQR\n",
    "\n",
    "# Print all Values\n",
    "print('Q1 : {}'.format(Q1))\n",
    "print('Q3 : {}'.format(Q3))\n",
    "print('IQR : {}'.format(IQR))\n",
    "print(Lower_Whisker, Upper_Whisker)"
   ]
  },
  {
   "cell_type": "code",
   "execution_count": 22,
   "metadata": {
    "id": "mCYm1tIhYfcU"
   },
   "outputs": [],
   "source": [
    "#CodeSection10\n",
    "# Replace Variable with Upper Whisker (there are other strategies)\n",
    "for datasets in all_data:\n",
    "    datasets['training_hours']=datasets['training_hours'].apply(lambda x: Upper_Whisker if x> Upper_Whisker else x)"
   ]
  },
  {
   "cell_type": "code",
   "execution_count": 23,
   "metadata": {
    "colab": {
     "base_uri": "https://localhost:8080/",
     "height": 352
    },
    "executionInfo": {
     "elapsed": 1045,
     "status": "ok",
     "timestamp": 1619679931767,
     "user": {
      "displayName": "Data Science Master Minds",
      "photoUrl": "",
      "userId": "13790691282857793894"
     },
     "user_tz": -330
    },
    "id": "elfBu1UpZStT",
    "outputId": "175b0f16-da1d-44f2-c81b-cbbb8c48082a"
   },
   "outputs": [
    {
     "data": {
      "text/plain": [
       "<matplotlib.axes._subplots.AxesSubplot at 0x1d8d40e88e0>"
      ]
     },
     "execution_count": 23,
     "metadata": {},
     "output_type": "execute_result"
    },
    {
     "data": {
      "image/png": "[encoded data removed]",
      "text/plain": [
       "<Figure size 432x288 with 1 Axes>"
      ]
     },
     "metadata": {
      "needs_background": "light"
     },
     "output_type": "display_data"
    }
   ],
   "source": [
    "#CodeSection11\n",
    "# Lets check again\n",
    "sns.boxplot(train['training_hours'])\n",
    "# Now No Outliers"
   ]
  },
  {
   "cell_type": "markdown",
   "metadata": {
    "id": "KboVZiYca70C"
   },
   "source": [
    "### Replicate for other Numerical Variable/Features"
   ]
  },
  {
   "cell_type": "code",
   "execution_count": 12,
   "metadata": {
    "scrolled": true
   },
   "outputs": [
    {
     "data": {
      "text/plain": [
       "<matplotlib.axes._subplots.AxesSubplot at 0x1d8d46f4490>"
      ]
     },
     "execution_count": 12,
     "metadata": {},
     "output_type": "execute_result"
    },
    {
     "data": {
      "image/png": "[encoded data removed]",
      "text/plain": [
       "<Figure size 432x288 with 1 Axes>"
      ]
     },
     "metadata": {
      "needs_background": "light"
     },
     "output_type": "display_data"
    }
   ],
   "source": [
    "sns.boxplot(test['city_development_index'])"
   ]
  },
  {
   "cell_type": "code",
   "execution_count": 24,
   "metadata": {},
   "outputs": [
    {
     "name": "stdout",
     "output_type": "stream",
     "text": [
      "Q1 : 0.7959999999999999\n",
      "Q3 : 0.92\n",
      "IQR : 0.12400000000000011\n",
      "0.6099999999999998 1.1060000000000003\n"
     ]
    }
   ],
   "source": [
    "# Use quantile function\n",
    "# Find Q1 and Q3\n",
    "Q1 = train['city_development_index'].quantile(0.25)\n",
    "Q3 = train['city_development_index'].quantile(0.75)\n",
    "\n",
    "#Find IQR \n",
    "IQR = Q3-Q1\n",
    "\n",
    "#Find Lower Limit and Higher Limit\n",
    "Lower_Whisker = Q1 -1.5*IQR\n",
    "Upper_Whisker = Q3 + 1.5*IQR\n",
    "\n",
    "# Print all Values\n",
    "print('Q1 : {}'.format(Q1))\n",
    "print('Q3 : {}'.format(Q3))\n",
    "print('IQR : {}'.format(IQR))\n",
    "print(Lower_Whisker, Upper_Whisker)"
   ]
  },
  {
   "cell_type": "code",
   "execution_count": 25,
   "metadata": {
    "id": "QITXr52ca70I"
   },
   "outputs": [
    {
     "data": {
      "text/plain": [
       "<matplotlib.axes._subplots.AxesSubplot at 0x1d8d38c4670>"
      ]
     },
     "execution_count": 25,
     "metadata": {},
     "output_type": "execute_result"
    },
    {
     "data": {
      "image/png": "[encoded data removed]",
      "text/plain": [
       "<Figure size 432x288 with 1 Axes>"
      ]
     },
     "metadata": {
      "needs_background": "light"
     },
     "output_type": "display_data"
    }
   ],
   "source": [
    "#CodeSection12\n",
    "\n",
    "# Identify all Numerical Variables \n",
    "\n",
    "for datasets in all_data:\n",
    "    datasets['city_development_index']=datasets['city_development_index'].apply(lambda x: Lower_Whisker if x< Lower_Whisker else x)\n",
    "\n",
    "sns.boxplot(test['city_development_index'])"
   ]
  },
  {
   "cell_type": "markdown",
   "metadata": {
    "id": "am7cBDhea70L"
   },
   "source": [
    "## 5/ Impute Numerical Variables\n",
    "- NA"
   ]
  },
  {
   "cell_type": "markdown",
   "metadata": {
    "id": "HSChDYATa70P"
   },
   "source": [
    "## 6/ Impute Categorical Variables\n",
    "- Lets try another Strategy of Imputing \"Missing\" where a Category value is missing"
   ]
  },
  {
   "cell_type": "markdown",
   "metadata": {
    "id": "D-qhcS6Ma70P"
   },
   "source": [
    "### Impute all Categorical Variables at once"
   ]
  },
  {
   "cell_type": "code",
   "execution_count": 26,
   "metadata": {
    "id": "_JgFfORJa70Q"
   },
   "outputs": [],
   "source": [
    "cat_var=['gender','enrolled_university','education_level','major_discipline','experience','company_size','company_type','last_new_job']\n",
    "\n",
    "for var in cat_var:\n",
    "    for datasets in all_data:\n",
    "        datasets[var]=datasets[var].fillna(datasets[var].mode()[0])"
   ]
  },
  {
   "cell_type": "markdown",
   "metadata": {
    "id": "Yn4guIioa70V"
   },
   "source": [
    "## 7/ Now Re Check all Features"
   ]
  },
  {
   "cell_type": "code",
   "execution_count": 27,
   "metadata": {
    "colab": {
     "base_uri": "https://localhost:8080/"
    },
    "executionInfo": {
     "elapsed": 636,
     "status": "ok",
     "timestamp": 1619680030525,
     "user": {
      "displayName": "Data Science Master Minds",
      "photoUrl": "",
      "userId": "13790691282857793894"
     },
     "user_tz": -330
    },
    "id": "MHrl6vMma70W",
    "outputId": "df3d35ac-56be-445e-f69c-9a686ac4b625"
   },
   "outputs": [
    {
     "data": {
      "text/plain": [
       "enrollee_id                   0\n",
       "city                          0\n",
       "city_development_index        0\n",
       "gender                        0\n",
       "relevent_experience           0\n",
       "enrolled_university           0\n",
       "education_level               0\n",
       "major_discipline              0\n",
       "experience                    0\n",
       "company_size                  0\n",
       "company_type                  0\n",
       "last_new_job                  0\n",
       "training_hours                0\n",
       "target                    15021\n",
       "dtype: int64"
      ]
     },
     "execution_count": 27,
     "metadata": {},
     "output_type": "execute_result"
    }
   ],
   "source": [
    "#CodeSection15\n",
    "# Combine both to check Missing Value\n",
    "pd.concat([train, test], axis = 0).isnull().sum()"
   ]
  },
  {
   "cell_type": "markdown",
   "metadata": {
    "id": "6Ade98pva70W"
   },
   "source": [
    "## 8/ Prepare Data for Model Model"
   ]
  },
  {
   "cell_type": "code",
   "execution_count": 28,
   "metadata": {
    "colab": {
     "base_uri": "https://localhost:8080/",
     "height": 232
    },
    "executionInfo": {
     "elapsed": 1344,
     "status": "ok",
     "timestamp": 1619680040355,
     "user": {
      "displayName": "Data Science Master Minds",
      "photoUrl": "",
      "userId": "13790691282857793894"
     },
     "user_tz": -330
    },
    "id": "TEySx0Nza70X",
    "outputId": "f8234271-ba5f-471b-e65e-12017599e0c1"
   },
   "outputs": [
    {
     "data": {
      "text/html": [
       "<div>\n",
       "<style scoped>\n",
       "    .dataframe tbody tr th:only-of-type {\n",
       "        vertical-align: middle;\n",
       "    }\n",
       "\n",
       "    .dataframe tbody tr th {\n",
       "        vertical-align: top;\n",
       "    }\n",
       "\n",
       "    .dataframe thead th {\n",
       "        text-align: right;\n",
       "    }\n",
       "</style>\n",
       "<table border=\"1\" class=\"dataframe\">\n",
       "  <thead>\n",
       "    <tr style=\"text-align: right;\">\n",
       "      <th></th>\n",
       "      <th>enrollee_id</th>\n",
       "      <th>city</th>\n",
       "      <th>city_development_index</th>\n",
       "      <th>gender</th>\n",
       "      <th>relevent_experience</th>\n",
       "      <th>enrolled_university</th>\n",
       "      <th>education_level</th>\n",
       "      <th>major_discipline</th>\n",
       "      <th>experience</th>\n",
       "      <th>company_size</th>\n",
       "      <th>company_type</th>\n",
       "      <th>last_new_job</th>\n",
       "      <th>training_hours</th>\n",
       "    </tr>\n",
       "  </thead>\n",
       "  <tbody>\n",
       "    <tr>\n",
       "      <th>0</th>\n",
       "      <td>16548</td>\n",
       "      <td>city_33</td>\n",
       "      <td>0.610</td>\n",
       "      <td>Male</td>\n",
       "      <td>No relevent experience</td>\n",
       "      <td>Full time course</td>\n",
       "      <td>Graduate</td>\n",
       "      <td>STEM</td>\n",
       "      <td>&lt;1</td>\n",
       "      <td>1000-4999</td>\n",
       "      <td>Public Sector</td>\n",
       "      <td>1</td>\n",
       "      <td>15.0</td>\n",
       "    </tr>\n",
       "    <tr>\n",
       "      <th>1</th>\n",
       "      <td>12036</td>\n",
       "      <td>city_28</td>\n",
       "      <td>0.939</td>\n",
       "      <td>Male</td>\n",
       "      <td>No relevent experience</td>\n",
       "      <td>no_enrollment</td>\n",
       "      <td>Graduate</td>\n",
       "      <td>STEM</td>\n",
       "      <td>&gt;20</td>\n",
       "      <td>50-99</td>\n",
       "      <td>Pvt Ltd</td>\n",
       "      <td>1</td>\n",
       "      <td>94.0</td>\n",
       "    </tr>\n",
       "    <tr>\n",
       "      <th>2</th>\n",
       "      <td>11061</td>\n",
       "      <td>city_103</td>\n",
       "      <td>0.920</td>\n",
       "      <td>Male</td>\n",
       "      <td>No relevent experience</td>\n",
       "      <td>Full time course</td>\n",
       "      <td>Graduate</td>\n",
       "      <td>STEM</td>\n",
       "      <td>3</td>\n",
       "      <td>50-99</td>\n",
       "      <td>Pvt Ltd</td>\n",
       "      <td>1</td>\n",
       "      <td>17.0</td>\n",
       "    </tr>\n",
       "    <tr>\n",
       "      <th>3</th>\n",
       "      <td>5032</td>\n",
       "      <td>city_104</td>\n",
       "      <td>0.924</td>\n",
       "      <td>Male</td>\n",
       "      <td>No relevent experience</td>\n",
       "      <td>no_enrollment</td>\n",
       "      <td>Phd</td>\n",
       "      <td>STEM</td>\n",
       "      <td>&gt;20</td>\n",
       "      <td>50-99</td>\n",
       "      <td>Pvt Ltd</td>\n",
       "      <td>2</td>\n",
       "      <td>76.0</td>\n",
       "    </tr>\n",
       "    <tr>\n",
       "      <th>4</th>\n",
       "      <td>17599</td>\n",
       "      <td>city_77</td>\n",
       "      <td>0.830</td>\n",
       "      <td>Male</td>\n",
       "      <td>Has relevent experience</td>\n",
       "      <td>no_enrollment</td>\n",
       "      <td>Graduate</td>\n",
       "      <td>STEM</td>\n",
       "      <td>6</td>\n",
       "      <td>&lt;10</td>\n",
       "      <td>Pvt Ltd</td>\n",
       "      <td>2</td>\n",
       "      <td>65.0</td>\n",
       "    </tr>\n",
       "  </tbody>\n",
       "</table>\n",
       "</div>"
      ],
      "text/plain": [
       "   enrollee_id      city  city_development_index gender  \\\n",
       "0        16548   city_33                   0.610   Male   \n",
       "1        12036   city_28                   0.939   Male   \n",
       "2        11061  city_103                   0.920   Male   \n",
       "3         5032  city_104                   0.924   Male   \n",
       "4        17599   city_77                   0.830   Male   \n",
       "\n",
       "       relevent_experience enrolled_university education_level  \\\n",
       "0   No relevent experience    Full time course        Graduate   \n",
       "1   No relevent experience       no_enrollment        Graduate   \n",
       "2   No relevent experience    Full time course        Graduate   \n",
       "3   No relevent experience       no_enrollment             Phd   \n",
       "4  Has relevent experience       no_enrollment        Graduate   \n",
       "\n",
       "  major_discipline experience company_size   company_type last_new_job  \\\n",
       "0             STEM         <1    1000-4999  Public Sector            1   \n",
       "1             STEM        >20        50-99        Pvt Ltd            1   \n",
       "2             STEM          3        50-99        Pvt Ltd            1   \n",
       "3             STEM        >20        50-99        Pvt Ltd            2   \n",
       "4             STEM          6          <10        Pvt Ltd            2   \n",
       "\n",
       "   training_hours  \n",
       "0            15.0  \n",
       "1            94.0  \n",
       "2            17.0  \n",
       "3            76.0  \n",
       "4            65.0  "
      ]
     },
     "execution_count": 28,
     "metadata": {},
     "output_type": "execute_result"
    }
   ],
   "source": [
    "#CodeSection16\n",
    "# Check First 5 Rows of Test Data\n",
    "test.head()"
   ]
  },
  {
   "cell_type": "code",
   "execution_count": 29,
   "metadata": {
    "id": "A6yS1pqza70X"
   },
   "outputs": [],
   "source": [
    "#CodeSection17\n",
    "# Get X and y Variables for your Dataset\n",
    "X=train.drop(['enrollee_id','target'], axis=1)\n",
    "y= train['target']"
   ]
  },
  {
   "cell_type": "markdown",
   "metadata": {
    "id": "w1gJQ7Qsa70Y"
   },
   "source": [
    "### Create Dummy Variables for  Categorical Variables"
   ]
  },
  {
   "cell_type": "code",
   "execution_count": 30,
   "metadata": {
    "id": "ipcXGR73a70Y"
   },
   "outputs": [],
   "source": [
    "#CodeSection18\n",
    "# Get Dummy Variables\n",
    "X = pd.get_dummies(X)  # Keep only n - 1 Variables - Use \"drop_first = True\""
   ]
  },
  {
   "cell_type": "markdown",
   "metadata": {
    "id": "p62cfPzVa70Y"
   },
   "source": [
    "## 9/ Build Model"
   ]
  },
  {
   "cell_type": "code",
   "execution_count": 31,
   "metadata": {
    "id": "GdLbPTCXa70Y"
   },
   "outputs": [],
   "source": [
    "#CodeSection19\n",
    "#Import Logistic Regression Library\n",
    "from sklearn.linear_model import LogisticRegression\n",
    "\n",
    "#Initialize LR\n",
    "clf = LogisticRegression(max_iter = 5000, class_weight='balanced')"
   ]
  },
  {
   "cell_type": "code",
   "execution_count": 32,
   "metadata": {
    "id": "WrD0GfaSa70Z"
   },
   "outputs": [],
   "source": [
    "#CodeSection20\n",
    "# Fit Model\n",
    "model = clf.fit(X, y)"
   ]
  },
  {
   "cell_type": "markdown",
   "metadata": {
    "id": "Omv4nWgwa70Z"
   },
   "source": [
    "### Check Accuracy of Model on Train Data"
   ]
  },
  {
   "cell_type": "code",
   "execution_count": 33,
   "metadata": {
    "id": "PQi2u6uQa70Z"
   },
   "outputs": [],
   "source": [
    "#CodeSection21\n",
    "# Predict on Train Data\n",
    "y_pred = model.predict(X)"
   ]
  },
  {
   "cell_type": "markdown",
   "metadata": {
    "id": "AqPB9qLLa70a"
   },
   "source": [
    "### We can use a Accuracy Function from Metrics\n",
    "- Check Train Accuracy"
   ]
  },
  {
   "cell_type": "code",
   "execution_count": 34,
   "metadata": {
    "id": "L8VJNsHIa70a"
   },
   "outputs": [],
   "source": [
    "#CodeSection22\n",
    "# Import metrics library\n",
    "from sklearn.metrics import roc_auc_score"
   ]
  },
  {
   "cell_type": "code",
   "execution_count": 35,
   "metadata": {
    "id": "jeeS7nkja70a"
   },
   "outputs": [],
   "source": [
    "#CodeSection23\n",
    "# get Actual \"y\" variables (use \"y_true\" as variable)\n",
    "y_true = train['target']"
   ]
  },
  {
   "cell_type": "code",
   "execution_count": 36,
   "metadata": {
    "colab": {
     "base_uri": "https://localhost:8080/"
    },
    "executionInfo": {
     "elapsed": 865,
     "status": "ok",
     "timestamp": 1619680075289,
     "user": {
      "displayName": "Data Science Master Minds",
      "photoUrl": "",
      "userId": "13790691282857793894"
     },
     "user_tz": -330
    },
    "id": "p7llEg7aa70b",
    "outputId": "e485734a-a75a-41db-d70d-4aac127cfb2a"
   },
   "outputs": [
    {
     "name": "stdout",
     "output_type": "stream",
     "text": [
      " Train Accuracy : 63.3%\n"
     ]
    }
   ],
   "source": [
    "#CodeSection24\n",
    "# Print Train Accuracy\n",
    "print(f\" Train Accuracy : {roc_auc_score(y_true, y_pred):0.1%}\")"
   ]
  },
  {
   "cell_type": "markdown",
   "metadata": {
    "id": "QIMZgLEWa70b"
   },
   "source": [
    "## 10/ Predict and Submit"
   ]
  },
  {
   "cell_type": "markdown",
   "metadata": {
    "id": "BwZubGmra70b"
   },
   "source": [
    "### Predict"
   ]
  },
  {
   "cell_type": "code",
   "execution_count": 37,
   "metadata": {
    "id": "7qnE4K9Ca70c"
   },
   "outputs": [],
   "source": [
    "#CodeSection25\n",
    "# Get all the X Variables from the Test Dataset\n",
    "X_test = test.drop(['enrollee_id'], axis=1)"
   ]
  },
  {
   "cell_type": "code",
   "execution_count": 38,
   "metadata": {
    "id": "0ivs1ED7a70d"
   },
   "outputs": [],
   "source": [
    "#CodeSection26\n",
    "#Covert to Dummies\n",
    "X_test = pd.get_dummies(X_test)"
   ]
  },
  {
   "cell_type": "code",
   "execution_count": 39,
   "metadata": {
    "id": "cHsaBNQFa70e"
   },
   "outputs": [],
   "source": [
    "#CodeSection28\n",
    "# Predict on X_test Data (\"X_test_prep\")\n",
    "X_test_prep = model.predict(X_test)"
   ]
  },
  {
   "cell_type": "markdown",
   "metadata": {
    "id": "xNsntVeVVZJJ"
   },
   "source": [
    "### Import Sample Submission"
   ]
  },
  {
   "cell_type": "code",
   "execution_count": 40,
   "metadata": {
    "colab": {
     "base_uri": "https://localhost:8080/",
     "height": 204
    },
    "executionInfo": {
     "elapsed": 1216,
     "status": "ok",
     "timestamp": 1618996699287,
     "user": {
      "displayName": "Data Science Master Minds",
      "photoUrl": "",
      "userId": "13790691282857793894"
     },
     "user_tz": -330
    },
    "id": "RN-xBj4aa70f",
    "outputId": "7436f4ab-cfe6-4b4e-e682-1c7e90733d77"
   },
   "outputs": [
    {
     "data": {
      "text/html": [
       "<div>\n",
       "<style scoped>\n",
       "    .dataframe tbody tr th:only-of-type {\n",
       "        vertical-align: middle;\n",
       "    }\n",
       "\n",
       "    .dataframe tbody tr th {\n",
       "        vertical-align: top;\n",
       "    }\n",
       "\n",
       "    .dataframe thead th {\n",
       "        text-align: right;\n",
       "    }\n",
       "</style>\n",
       "<table border=\"1\" class=\"dataframe\">\n",
       "  <thead>\n",
       "    <tr style=\"text-align: right;\">\n",
       "      <th></th>\n",
       "      <th>enrollee_id</th>\n",
       "      <th>target</th>\n",
       "    </tr>\n",
       "  </thead>\n",
       "  <tbody>\n",
       "    <tr>\n",
       "      <th>0</th>\n",
       "      <td>16548</td>\n",
       "      <td>0</td>\n",
       "    </tr>\n",
       "    <tr>\n",
       "      <th>1</th>\n",
       "      <td>12036</td>\n",
       "      <td>0</td>\n",
       "    </tr>\n",
       "    <tr>\n",
       "      <th>2</th>\n",
       "      <td>11061</td>\n",
       "      <td>0</td>\n",
       "    </tr>\n",
       "    <tr>\n",
       "      <th>3</th>\n",
       "      <td>5032</td>\n",
       "      <td>0</td>\n",
       "    </tr>\n",
       "    <tr>\n",
       "      <th>4</th>\n",
       "      <td>17599</td>\n",
       "      <td>0</td>\n",
       "    </tr>\n",
       "  </tbody>\n",
       "</table>\n",
       "</div>"
      ],
      "text/plain": [
       "   enrollee_id  target\n",
       "0        16548       0\n",
       "1        12036       0\n",
       "2        11061       0\n",
       "3         5032       0\n",
       "4        17599       0"
      ]
     },
     "execution_count": 40,
     "metadata": {},
     "output_type": "execute_result"
    }
   ],
   "source": [
    "#CodeSection29\n",
    "sample_submission = pd.read_csv('input/sample_submission.csv')\n",
    "sample_submission.head()"
   ]
  },
  {
   "cell_type": "markdown",
   "metadata": {
    "id": "SClle2xqa70e"
   },
   "source": [
    "### Create Submission File"
   ]
  },
  {
   "cell_type": "code",
   "execution_count": 41,
   "metadata": {
    "id": "LgdlFL46a70f"
   },
   "outputs": [],
   "source": [
    "#CodeSection30\n",
    "submission = pd.DataFrame({\n",
    "    'enrollee_id' : test['enrollee_id'],\n",
    "    'target' : X_test_prep\n",
    "})"
   ]
  },
  {
   "cell_type": "markdown",
   "metadata": {
    "id": "MAZ0TP21a70g"
   },
   "source": [
    "### Export Submission File"
   ]
  },
  {
   "cell_type": "code",
   "execution_count": 42,
   "metadata": {
    "id": "AnfbYZoKa70g"
   },
   "outputs": [],
   "source": [
    "#CodeSection31\n",
    "submission.to_csv('output/O3_LR_Outlier.csv', index = False)"
   ]
  },
  {
   "cell_type": "code",
   "execution_count": null,
   "metadata": {
    "id": "n13R8vTfa70g"
   },
   "outputs": [],
   "source": [
    "# LB Accuracy : 0.624005387351194"
   ]
  }
 ],
 "metadata": {
  "colab": {
   "collapsed_sections": [
    "w1gJQ7Qsa70Y",
    "Omv4nWgwa70Z",
    "AqPB9qLLa70a",
    "MAZ0TP21a70g"
   ],
   "name": "InClass Working Code 3 - Numerical & Categorical EDA Outlier Strategy.ipynb",
   "provenance": [],
   "toc_visible": true
  },
  "kernelspec": {
   "display_name": "Python 3",
   "language": "python",
   "name": "python3"
  },
  "language_info": {
   "codemirror_mode": {
    "name": "ipython",
    "version": 3
   },
   "file_extension": ".py",
   "mimetype": "text/x-python",
   "name": "python",
   "nbconvert_exporter": "python",
   "pygments_lexer": "ipython3",
   "version": "3.8.3"
  }
 },
 "nbformat": 4,
 "nbformat_minor": 1
}
