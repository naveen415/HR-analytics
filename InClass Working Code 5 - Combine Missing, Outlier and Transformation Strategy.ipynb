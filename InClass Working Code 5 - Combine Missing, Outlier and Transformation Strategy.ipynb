{
 "cells": [
  {
   "cell_type": "markdown",
   "metadata": {
    "id": "lFwktUA6a7zH"
   },
   "source": [
    "# Code 5\n",
    "- Combine all Strategy\n",
    "  - Missing Value Imputation\n",
    "  - Outlier Startegy\n",
    "  - Tranformation Strategy"
   ]
  },
  {
   "cell_type": "markdown",
   "metadata": {
    "id": "9DXfa773a7zZ"
   },
   "source": [
    "## 1/ Import Libraries"
   ]
  },
  {
   "cell_type": "code",
   "execution_count": 1,
   "metadata": {
    "colab": {
     "base_uri": "https://localhost:8080/"
    },
    "executionInfo": {
     "elapsed": 979,
     "status": "ok",
     "timestamp": 1619001205594,
     "user": {
      "displayName": "Data Science Master Minds",
      "photoUrl": "",
      "userId": "13790691282857793894"
     },
     "user_tz": -330
    },
    "id": "s7o2t9blWo-b",
    "outputId": "f59a4f5d-2d51-4c05-eb38-951f64dfad58"
   },
   "outputs": [],
   "source": [
    "#CodeSection1\n",
    "# from google.colab import drive\n",
    "# drive.mount('/mntDrive') "
   ]
  },
  {
   "cell_type": "code",
   "execution_count": 2,
   "metadata": {
    "id": "n8yqRIuha7zn"
   },
   "outputs": [],
   "source": [
    "#CodeSection2\n",
    "import pandas as pd\n",
    "import numpy as np"
   ]
  },
  {
   "cell_type": "markdown",
   "metadata": {
    "id": "wRz6crvoa7zo"
   },
   "source": [
    "## 2/ Import Data"
   ]
  },
  {
   "cell_type": "code",
   "execution_count": 4,
   "metadata": {
    "id": "3u-V5dA4a7zp"
   },
   "outputs": [],
   "source": [
    "#CodeSection3\n",
    "train = pd.read_csv('input/train.csv')\n",
    "test = pd.read_csv('input/test.csv')"
   ]
  },
  {
   "cell_type": "markdown",
   "metadata": {
    "id": "k-SeaUk9a7zp"
   },
   "source": [
    "## 3/ Combine both Datasets (train, test)"
   ]
  },
  {
   "cell_type": "code",
   "execution_count": 5,
   "metadata": {
    "id": "LOCJ0YdIa7zq"
   },
   "outputs": [],
   "source": [
    "#CodeSection4\n",
    "all_data = [train, test]"
   ]
  },
  {
   "cell_type": "markdown",
   "metadata": {
    "id": "ox_afLNJtkyO"
   },
   "source": [
    "### Check Combined Data \n",
    "- Missing Value\n",
    "- Data Types"
   ]
  },
  {
   "cell_type": "code",
   "execution_count": 6,
   "metadata": {
    "colab": {
     "base_uri": "https://localhost:8080/"
    },
    "executionInfo": {
     "elapsed": 1070,
     "status": "ok",
     "timestamp": 1619001214458,
     "user": {
      "displayName": "Data Science Master Minds",
      "photoUrl": "",
      "userId": "13790691282857793894"
     },
     "user_tz": -330
    },
    "id": "T_aFcU3Na7zq",
    "outputId": "4a03b02e-97cf-4435-83cb-172cf125cfc3"
   },
   "outputs": [
    {
     "data": {
      "text/plain": [
       "enrollee_id                   0\n",
       "city                          0\n",
       "city_development_index        0\n",
       "gender                     7486\n",
       "relevent_experience           0\n",
       "enrolled_university         621\n",
       "education_level             852\n",
       "major_discipline           5231\n",
       "experience                  103\n",
       "company_size               8830\n",
       "company_type               9369\n",
       "last_new_job                671\n",
       "training_hours                0\n",
       "target                    15021\n",
       "dtype: int64"
      ]
     },
     "execution_count": 6,
     "metadata": {},
     "output_type": "execute_result"
    }
   ],
   "source": [
    "#CodeSection5\n",
    "# Combine both to check Missing Value\n",
    "pd.concat([train, test], axis = 0).isnull().sum()"
   ]
  },
  {
   "cell_type": "code",
   "execution_count": 7,
   "metadata": {
    "colab": {
     "base_uri": "https://localhost:8080/"
    },
    "executionInfo": {
     "elapsed": 1149,
     "status": "ok",
     "timestamp": 1619001216096,
     "user": {
      "displayName": "Data Science Master Minds",
      "photoUrl": "",
      "userId": "13790691282857793894"
     },
     "user_tz": -330
    },
    "id": "yCMGv2mOa7zu",
    "outputId": "11689c0a-f808-4322-b114-58af7ac0cbf8",
    "scrolled": true
   },
   "outputs": [
    {
     "name": "stdout",
     "output_type": "stream",
     "text": [
      "<class 'pandas.core.frame.DataFrame'>\n",
      "RangeIndex: 18359 entries, 0 to 18358\n",
      "Data columns (total 14 columns):\n",
      " #   Column                  Non-Null Count  Dtype  \n",
      "---  ------                  --------------  -----  \n",
      " 0   enrollee_id             18359 non-null  int64  \n",
      " 1   city                    18359 non-null  object \n",
      " 2   city_development_index  18359 non-null  float64\n",
      " 3   gender                  14261 non-null  object \n",
      " 4   relevent_experience     18359 non-null  object \n",
      " 5   enrolled_university     18017 non-null  object \n",
      " 6   education_level         17902 non-null  object \n",
      " 7   major_discipline        15521 non-null  object \n",
      " 8   experience              18300 non-null  object \n",
      " 9   company_size            13580 non-null  object \n",
      " 10  company_type            13320 non-null  object \n",
      " 11  last_new_job            17992 non-null  object \n",
      " 12  training_hours          18359 non-null  int64  \n",
      " 13  target                  18359 non-null  int64  \n",
      "dtypes: float64(1), int64(3), object(10)\n",
      "memory usage: 2.0+ MB\n"
     ]
    }
   ],
   "source": [
    "#CodeSection6\n",
    "# Check Data types for each variable\n",
    "train.info()"
   ]
  },
  {
   "cell_type": "code",
   "execution_count": 8,
   "metadata": {},
   "outputs": [],
   "source": [
    "#numerical_features = ['city_development_index', 'training_hours']\n",
    "#categorical_features = ['city','gender', 'relevent_experience', 'enrolled_university','education_level','major_discipline','experience','company_size','company_type','last_new_job']"
   ]
  },
  {
   "cell_type": "markdown",
   "metadata": {
    "id": "I5pEcQeA-g8O"
   },
   "source": [
    "## 4/ Numerical Processing"
   ]
  },
  {
   "cell_type": "markdown",
   "metadata": {
    "id": "am7cBDhea70L"
   },
   "source": [
    "### 4.1/ Impute Numerical Variables\n",
    "-NA"
   ]
  },
  {
   "cell_type": "markdown",
   "metadata": {
    "id": "RbXNGRsG0SPc"
   },
   "source": [
    "### 4.2/ Outlier Strategy"
   ]
  },
  {
   "cell_type": "code",
   "execution_count": 9,
   "metadata": {},
   "outputs": [],
   "source": [
    "import seaborn as sns"
   ]
  },
  {
   "cell_type": "code",
   "execution_count": 12,
   "metadata": {},
   "outputs": [
    {
     "data": {
      "text/plain": [
       "<matplotlib.axes._subplots.AxesSubplot at 0x23ddfc5ed00>"
      ]
     },
     "execution_count": 12,
     "metadata": {},
     "output_type": "execute_result"
    },
    {
     "data": {
      "image/png": "[encoded data removed]",
      "text/plain": [
       "<Figure size 432x288 with 1 Axes>"
      ]
     },
     "metadata": {
      "needs_background": "light"
     },
     "output_type": "display_data"
    }
   ],
   "source": [
    "sns.boxplot(train['training_hours'])"
   ]
  },
  {
   "cell_type": "code",
   "execution_count": 13,
   "metadata": {
    "id": "Yq5wHuyv0Z8C"
   },
   "outputs": [],
   "source": [
    "#CodeSection11\n",
    "numerical_features = ['city_development_index', 'training_hours']\n",
    "# Write a loop to detect and impute Outliers\n",
    "for num_var in numerical_features:\n",
    "\n",
    "    Q1 = train[num_var].quantile(0.25)\n",
    "    Q3 = train[num_var].quantile(0.75)\n",
    "\n",
    "    IQR = Q3-Q1\n",
    "\n",
    "    Lower_Whisker = Q1 - 1.5*IQR\n",
    "    Upper_Whisker = Q3 + 1.5*IQR\n",
    "\n",
    "    for dataset in all_data:\n",
    "        dataset[num_var] = dataset[num_var].apply(lambda x : Upper_Whisker if x > Upper_Whisker else x)\n",
    "        dataset[num_var] = dataset[num_var].apply(lambda x : Lower_Whisker if x < Lower_Whisker else x)\n",
    "        "
   ]
  },
  {
   "cell_type": "code",
   "execution_count": 14,
   "metadata": {},
   "outputs": [
    {
     "data": {
      "text/plain": [
       "<matplotlib.axes._subplots.AxesSubplot at 0x23ddfcbe610>"
      ]
     },
     "execution_count": 14,
     "metadata": {},
     "output_type": "execute_result"
    },
    {
     "data": {
      "image/png": "[encoded data removed]",
      "text/plain": [
       "<Figure size 432x288 with 1 Axes>"
      ]
     },
     "metadata": {
      "needs_background": "light"
     },
     "output_type": "display_data"
    }
   ],
   "source": [
    "sns.boxplot(train['training_hours'])"
   ]
  },
  {
   "cell_type": "code",
   "execution_count": 15,
   "metadata": {},
   "outputs": [
    {
     "data": {
      "text/plain": [
       "<matplotlib.axes._subplots.AxesSubplot at 0x23ddff45cd0>"
      ]
     },
     "execution_count": 15,
     "metadata": {},
     "output_type": "execute_result"
    },
    {
     "data": {
      "image/png": "[encoded data removed]",
      "text/plain": [
       "<Figure size 432x288 with 1 Axes>"
      ]
     },
     "metadata": {
      "needs_background": "light"
     },
     "output_type": "display_data"
    }
   ],
   "source": [
    "sns.boxplot(train['city_development_index'])"
   ]
  },
  {
   "cell_type": "markdown",
   "metadata": {
    "id": "xeAnDRX-0sdl"
   },
   "source": [
    "### 4.3/ Transformation Strategy"
   ]
  },
  {
   "cell_type": "code",
   "execution_count": 16,
   "metadata": {
    "id": "X_NG_Fhb-5JX"
   },
   "outputs": [],
   "source": [
    "#CodeSection12\n",
    "# Import StandardScaler\n",
    "from sklearn.preprocessing import StandardScaler"
   ]
  },
  {
   "cell_type": "code",
   "execution_count": 17,
   "metadata": {
    "colab": {
     "base_uri": "https://localhost:8080/"
    },
    "executionInfo": {
     "elapsed": 1114,
     "status": "ok",
     "timestamp": 1619001271080,
     "user": {
      "displayName": "Data Science Master Minds",
      "photoUrl": "",
      "userId": "13790691282857793894"
     },
     "user_tz": -330
    },
    "id": "dh5j-7VX_F17",
    "outputId": "b1198d71-c005-49b1-d8dd-a434485a0cdb"
   },
   "outputs": [
    {
     "data": {
      "text/plain": [
       "StandardScaler()"
      ]
     },
     "execution_count": 17,
     "metadata": {},
     "output_type": "execute_result"
    }
   ],
   "source": [
    "#CodeSection13\n",
    "\n",
    "#Initiate StandardScaler\n",
    "num_scale = StandardScaler()\n",
    "\n",
    "# Fit StandardScaler\n",
    "num_scale.fit(train[numerical_features])"
   ]
  },
  {
   "cell_type": "code",
   "execution_count": 18,
   "metadata": {
    "id": "ut4Uq32Z_STX"
   },
   "outputs": [],
   "source": [
    "#CodeSection14\n",
    "# Scale Train and Test\n",
    "for datasets in all_data:\n",
    "    datasets[numerical_features]=num_scale.transform(datasets[numerical_features])"
   ]
  },
  {
   "cell_type": "markdown",
   "metadata": {
    "id": "HSChDYATa70P"
   },
   "source": [
    "## 5/ Impute Categorical Variables"
   ]
  },
  {
   "cell_type": "markdown",
   "metadata": {
    "id": "D-qhcS6Ma70P"
   },
   "source": [
    "### Impute all Categorical Variables at once"
   ]
  },
  {
   "cell_type": "code",
   "execution_count": 19,
   "metadata": {
    "id": "_JgFfORJa70Q"
   },
   "outputs": [],
   "source": [
    "#CodeSection15\n",
    "# Identify all Categorical Features\n",
    "categorical_features = ['city','gender', 'relevent_experience', 'enrolled_university','education_level','major_discipline','experience','company_size','company_type','last_new_job']"
   ]
  },
  {
   "cell_type": "code",
   "execution_count": 20,
   "metadata": {
    "id": "VDCqOfI9zJrF"
   },
   "outputs": [],
   "source": [
    "#CodeSection16\n",
    "# Import SimpleImputer\n",
    "from sklearn.impute import SimpleImputer"
   ]
  },
  {
   "cell_type": "code",
   "execution_count": 21,
   "metadata": {
    "colab": {
     "base_uri": "https://localhost:8080/"
    },
    "executionInfo": {
     "elapsed": 1144,
     "status": "ok",
     "timestamp": 1619002257879,
     "user": {
      "displayName": "Data Science Master Minds",
      "photoUrl": "",
      "userId": "13790691282857793894"
     },
     "user_tz": -330
    },
    "id": "jUWQ0FFpzMOa",
    "outputId": "9f88b02c-c280-46b0-d8be-2bd22eb47830"
   },
   "outputs": [
    {
     "data": {
      "text/plain": [
       "SimpleImputer(strategy='most_frequent')"
      ]
     },
     "execution_count": 21,
     "metadata": {},
     "output_type": "execute_result"
    }
   ],
   "source": [
    "#CodeSection17\n",
    "\n",
    "#Initiate SimpleImputer\n",
    "cat_impute = SimpleImputer(strategy='most_frequent')\n",
    "\n",
    "# Fit SimpleImputer\n",
    "cat_impute.fit(datasets[categorical_features])"
   ]
  },
  {
   "cell_type": "code",
   "execution_count": 22,
   "metadata": {
    "id": "567yT6Eaz5jg"
   },
   "outputs": [],
   "source": [
    "#CodeSection18\n",
    "# Impute Train and Test\n",
    "for datasets in all_data:\n",
    "    datasets[categorical_features]=cat_impute.transform(datasets[categorical_features])"
   ]
  },
  {
   "cell_type": "markdown",
   "metadata": {
    "id": "Yn4guIioa70V"
   },
   "source": [
    "## 6/ Now Re Check all Features"
   ]
  },
  {
   "cell_type": "code",
   "execution_count": 23,
   "metadata": {
    "colab": {
     "base_uri": "https://localhost:8080/"
    },
    "executionInfo": {
     "elapsed": 871,
     "status": "ok",
     "timestamp": 1619002266610,
     "user": {
      "displayName": "Data Science Master Minds",
      "photoUrl": "",
      "userId": "13790691282857793894"
     },
     "user_tz": -330
    },
    "id": "MHrl6vMma70W",
    "outputId": "bd7dfaac-6f9e-4eb6-b79a-562ad1e336ab"
   },
   "outputs": [
    {
     "data": {
      "text/plain": [
       "enrollee_id                   0\n",
       "city                          0\n",
       "city_development_index        0\n",
       "gender                        0\n",
       "relevent_experience           0\n",
       "enrolled_university           0\n",
       "education_level               0\n",
       "major_discipline              0\n",
       "experience                    0\n",
       "company_size                  0\n",
       "company_type                  0\n",
       "last_new_job                  0\n",
       "training_hours                0\n",
       "target                    15021\n",
       "dtype: int64"
      ]
     },
     "execution_count": 23,
     "metadata": {},
     "output_type": "execute_result"
    }
   ],
   "source": [
    "#CodeSection19\n",
    "# Combine both to check Missing Value\n",
    "pd.concat([train, test], axis = 0).isnull().sum()"
   ]
  },
  {
   "cell_type": "markdown",
   "metadata": {
    "id": "6Ade98pva70W"
   },
   "source": [
    "## 8/ Prepare Data for Model Model"
   ]
  },
  {
   "cell_type": "code",
   "execution_count": 24,
   "metadata": {
    "colab": {
     "base_uri": "https://localhost:8080/",
     "height": 204
    },
    "executionInfo": {
     "elapsed": 968,
     "status": "ok",
     "timestamp": 1619002312922,
     "user": {
      "displayName": "Data Science Master Minds",
      "photoUrl": "",
      "userId": "13790691282857793894"
     },
     "user_tz": -330
    },
    "id": "TEySx0Nza70X",
    "outputId": "a2855197-4fe1-4f0f-affa-e5dbdb7ec150"
   },
   "outputs": [
    {
     "data": {
      "text/html": [
       "<div>\n",
       "<style scoped>\n",
       "    .dataframe tbody tr th:only-of-type {\n",
       "        vertical-align: middle;\n",
       "    }\n",
       "\n",
       "    .dataframe tbody tr th {\n",
       "        vertical-align: top;\n",
       "    }\n",
       "\n",
       "    .dataframe thead th {\n",
       "        text-align: right;\n",
       "    }\n",
       "</style>\n",
       "<table border=\"1\" class=\"dataframe\">\n",
       "  <thead>\n",
       "    <tr style=\"text-align: right;\">\n",
       "      <th></th>\n",
       "      <th>enrollee_id</th>\n",
       "      <th>city</th>\n",
       "      <th>city_development_index</th>\n",
       "      <th>gender</th>\n",
       "      <th>relevent_experience</th>\n",
       "      <th>enrolled_university</th>\n",
       "      <th>education_level</th>\n",
       "      <th>major_discipline</th>\n",
       "      <th>experience</th>\n",
       "      <th>company_size</th>\n",
       "      <th>company_type</th>\n",
       "      <th>last_new_job</th>\n",
       "      <th>training_hours</th>\n",
       "    </tr>\n",
       "  </thead>\n",
       "  <tbody>\n",
       "    <tr>\n",
       "      <th>0</th>\n",
       "      <td>16548</td>\n",
       "      <td>city_33</td>\n",
       "      <td>-2.249657</td>\n",
       "      <td>Male</td>\n",
       "      <td>No relevent experience</td>\n",
       "      <td>Full time course</td>\n",
       "      <td>Graduate</td>\n",
       "      <td>STEM</td>\n",
       "      <td>&lt;1</td>\n",
       "      <td>1000-4999</td>\n",
       "      <td>Public Sector</td>\n",
       "      <td>1</td>\n",
       "      <td>-0.935500</td>\n",
       "    </tr>\n",
       "    <tr>\n",
       "      <th>1</th>\n",
       "      <td>12036</td>\n",
       "      <td>city_28</td>\n",
       "      <td>0.850692</td>\n",
       "      <td>Male</td>\n",
       "      <td>No relevent experience</td>\n",
       "      <td>no_enrollment</td>\n",
       "      <td>Graduate</td>\n",
       "      <td>STEM</td>\n",
       "      <td>&gt;20</td>\n",
       "      <td>50-99</td>\n",
       "      <td>Pvt Ltd</td>\n",
       "      <td>1</td>\n",
       "      <td>0.615088</td>\n",
       "    </tr>\n",
       "    <tr>\n",
       "      <th>2</th>\n",
       "      <td>11061</td>\n",
       "      <td>city_103</td>\n",
       "      <td>0.671645</td>\n",
       "      <td>Male</td>\n",
       "      <td>No relevent experience</td>\n",
       "      <td>Full time course</td>\n",
       "      <td>Graduate</td>\n",
       "      <td>STEM</td>\n",
       "      <td>3</td>\n",
       "      <td>50-99</td>\n",
       "      <td>Pvt Ltd</td>\n",
       "      <td>1</td>\n",
       "      <td>-0.896244</td>\n",
       "    </tr>\n",
       "    <tr>\n",
       "      <th>3</th>\n",
       "      <td>5032</td>\n",
       "      <td>city_104</td>\n",
       "      <td>0.709339</td>\n",
       "      <td>Male</td>\n",
       "      <td>No relevent experience</td>\n",
       "      <td>no_enrollment</td>\n",
       "      <td>Phd</td>\n",
       "      <td>STEM</td>\n",
       "      <td>&gt;20</td>\n",
       "      <td>50-99</td>\n",
       "      <td>Pvt Ltd</td>\n",
       "      <td>2</td>\n",
       "      <td>0.261790</td>\n",
       "    </tr>\n",
       "    <tr>\n",
       "      <th>4</th>\n",
       "      <td>17599</td>\n",
       "      <td>city_77</td>\n",
       "      <td>-0.176475</td>\n",
       "      <td>Male</td>\n",
       "      <td>Has relevent experience</td>\n",
       "      <td>no_enrollment</td>\n",
       "      <td>Graduate</td>\n",
       "      <td>STEM</td>\n",
       "      <td>6</td>\n",
       "      <td>&lt;10</td>\n",
       "      <td>Pvt Ltd</td>\n",
       "      <td>2</td>\n",
       "      <td>0.045885</td>\n",
       "    </tr>\n",
       "  </tbody>\n",
       "</table>\n",
       "</div>"
      ],
      "text/plain": [
       "   enrollee_id      city  city_development_index gender  \\\n",
       "0        16548   city_33               -2.249657   Male   \n",
       "1        12036   city_28                0.850692   Male   \n",
       "2        11061  city_103                0.671645   Male   \n",
       "3         5032  city_104                0.709339   Male   \n",
       "4        17599   city_77               -0.176475   Male   \n",
       "\n",
       "       relevent_experience enrolled_university education_level  \\\n",
       "0   No relevent experience    Full time course        Graduate   \n",
       "1   No relevent experience       no_enrollment        Graduate   \n",
       "2   No relevent experience    Full time course        Graduate   \n",
       "3   No relevent experience       no_enrollment             Phd   \n",
       "4  Has relevent experience       no_enrollment        Graduate   \n",
       "\n",
       "  major_discipline experience company_size   company_type last_new_job  \\\n",
       "0             STEM         <1    1000-4999  Public Sector            1   \n",
       "1             STEM        >20        50-99        Pvt Ltd            1   \n",
       "2             STEM          3        50-99        Pvt Ltd            1   \n",
       "3             STEM        >20        50-99        Pvt Ltd            2   \n",
       "4             STEM          6          <10        Pvt Ltd            2   \n",
       "\n",
       "   training_hours  \n",
       "0       -0.935500  \n",
       "1        0.615088  \n",
       "2       -0.896244  \n",
       "3        0.261790  \n",
       "4        0.045885  "
      ]
     },
     "execution_count": 24,
     "metadata": {},
     "output_type": "execute_result"
    }
   ],
   "source": [
    "#CodeSection20\n",
    "# Check First 5 Rows of Test Data\n",
    "test.head()"
   ]
  },
  {
   "cell_type": "code",
   "execution_count": 25,
   "metadata": {
    "id": "A6yS1pqza70X"
   },
   "outputs": [],
   "source": [
    "#CodeSection21\n",
    "# Get X and y Variables for your Dataset\n",
    "X=train.drop(['enrollee_id','target'], axis=1)\n",
    "y= train['target']"
   ]
  },
  {
   "cell_type": "markdown",
   "metadata": {
    "id": "w1gJQ7Qsa70Y"
   },
   "source": [
    "### Create Dummy Variables for  Categorical Variables"
   ]
  },
  {
   "cell_type": "code",
   "execution_count": 26,
   "metadata": {
    "id": "ipcXGR73a70Y"
   },
   "outputs": [],
   "source": [
    "#CodeSection22\n",
    "# Get Dummy Variables\n",
    "X = pd.get_dummies(X, drop_first = True)  # Keep only n - 1 Variables - Use \"drop_first = True\""
   ]
  },
  {
   "cell_type": "markdown",
   "metadata": {
    "id": "p62cfPzVa70Y"
   },
   "source": [
    "## 9/ Build Model"
   ]
  },
  {
   "cell_type": "code",
   "execution_count": 27,
   "metadata": {
    "id": "GdLbPTCXa70Y"
   },
   "outputs": [],
   "source": [
    "#CodeSection23\n",
    "#Import Logistic Regression Library\n",
    "from sklearn.linear_model import LogisticRegression\n",
    "\n",
    "#Initialize LR\n",
    "clf = LogisticRegression(max_iter = 1000, class_weight='balanced')"
   ]
  },
  {
   "cell_type": "code",
   "execution_count": 28,
   "metadata": {
    "id": "WrD0GfaSa70Z"
   },
   "outputs": [],
   "source": [
    "#CodeSection24\n",
    "# Fit Model\n",
    "model = clf.fit(X, y)"
   ]
  },
  {
   "cell_type": "markdown",
   "metadata": {
    "id": "Omv4nWgwa70Z"
   },
   "source": [
    "### Check Accuracy of Model on Train Data"
   ]
  },
  {
   "cell_type": "code",
   "execution_count": 29,
   "metadata": {
    "id": "PQi2u6uQa70Z"
   },
   "outputs": [],
   "source": [
    "#CodeSection25\n",
    "# Predict on Train Data\n",
    "y_pred = model.predict(X)"
   ]
  },
  {
   "cell_type": "markdown",
   "metadata": {
    "id": "AqPB9qLLa70a"
   },
   "source": [
    "### We can use a Accuracy Function from Metrics\n",
    "- Check Train Accuracy"
   ]
  },
  {
   "cell_type": "code",
   "execution_count": 30,
   "metadata": {
    "id": "L8VJNsHIa70a"
   },
   "outputs": [],
   "source": [
    "#CodeSection26\n",
    "# Import metrics library\n",
    "from sklearn.metrics import roc_auc_score"
   ]
  },
  {
   "cell_type": "code",
   "execution_count": 31,
   "metadata": {
    "id": "jeeS7nkja70a"
   },
   "outputs": [],
   "source": [
    "#CodeSection27\n",
    "# get Actual \"y\" variables (use \"y_true\" as variable)\n",
    "y_true = train['target']"
   ]
  },
  {
   "cell_type": "code",
   "execution_count": 32,
   "metadata": {
    "colab": {
     "base_uri": "https://localhost:8080/"
    },
    "executionInfo": {
     "elapsed": 783,
     "status": "ok",
     "timestamp": 1619002884638,
     "user": {
      "displayName": "Data Science Master Minds",
      "photoUrl": "",
      "userId": "13790691282857793894"
     },
     "user_tz": -330
    },
    "id": "p7llEg7aa70b",
    "outputId": "78c08e77-5efe-49ec-f0ee-104542b7a8fd"
   },
   "outputs": [
    {
     "name": "stdout",
     "output_type": "stream",
     "text": [
      " Train Accuracy : 63.3%\n"
     ]
    }
   ],
   "source": [
    "#CodeSection28\n",
    "# Print Train Accuracy\n",
    "print(f\" Train Accuracy : {roc_auc_score(y_true, y_pred):0.1%}\")"
   ]
  },
  {
   "cell_type": "markdown",
   "metadata": {
    "id": "QIMZgLEWa70b"
   },
   "source": [
    "## 10/ Predict and Submit"
   ]
  },
  {
   "cell_type": "markdown",
   "metadata": {
    "id": "BwZubGmra70b"
   },
   "source": [
    "### Predict"
   ]
  },
  {
   "cell_type": "code",
   "execution_count": 33,
   "metadata": {
    "id": "7qnE4K9Ca70c"
   },
   "outputs": [],
   "source": [
    "#CodeSection29\n",
    "# Get all the X Variables from the Test Dataset\n",
    "X_test = test.drop(['enrollee_id'], axis =  1)"
   ]
  },
  {
   "cell_type": "code",
   "execution_count": 34,
   "metadata": {
    "id": "0ivs1ED7a70d"
   },
   "outputs": [],
   "source": [
    "#CodeSection30\n",
    "#Covert to Dummies\n",
    "X_test = pd.get_dummies(X_test, drop_first = True)"
   ]
  },
  {
   "cell_type": "code",
   "execution_count": 35,
   "metadata": {
    "id": "cHsaBNQFa70e"
   },
   "outputs": [],
   "source": [
    "#CodeSection32\n",
    "# Predict on X_test Data (\"X_test_prep\")\n",
    "X_test_prep = model.predict(X_test)"
   ]
  },
  {
   "cell_type": "markdown",
   "metadata": {
    "id": "SClle2xqa70e"
   },
   "source": [
    "### Create Submission File"
   ]
  },
  {
   "cell_type": "code",
   "execution_count": 36,
   "metadata": {
    "id": "LgdlFL46a70f"
   },
   "outputs": [],
   "source": [
    "#CodeSection33\n",
    "submission = pd.DataFrame({\n",
    "    'enrollee_id' : test['enrollee_id'],\n",
    "    'target' : X_test_prep\n",
    "})"
   ]
  },
  {
   "cell_type": "markdown",
   "metadata": {
    "id": "MAZ0TP21a70g"
   },
   "source": [
    "### Export Submission File"
   ]
  },
  {
   "cell_type": "code",
   "execution_count": 37,
   "metadata": {
    "id": "AnfbYZoKa70g"
   },
   "outputs": [],
   "source": [
    "#CodeSection34\n",
    "submission.to_csv('output/O5_Preproccesing_All.csv', index = False)"
   ]
  },
  {
   "cell_type": "code",
   "execution_count": null,
   "metadata": {
    "id": "n13R8vTfa70g"
   },
   "outputs": [],
   "source": [
    "# LB Accuracy : 0.6222650027976495"
   ]
  }
 ],
 "metadata": {
  "colab": {
   "name": "InClass Working Code 5 - Combine Missing, Outlier and Transformation Strategy.ipynb",
   "provenance": [],
   "toc_visible": true
  },
  "kernelspec": {
   "display_name": "Python 3",
   "language": "python",
   "name": "python3"
  },
  "language_info": {
   "codemirror_mode": {
    "name": "ipython",
    "version": 3
   },
   "file_extension": ".py",
   "mimetype": "text/x-python",
   "name": "python",
   "nbconvert_exporter": "python",
   "pygments_lexer": "ipython3",
   "version": "3.8.3"
  }
 },
 "nbformat": 4,
 "nbformat_minor": 1
}
